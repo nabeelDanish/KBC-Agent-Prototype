{
 "cells": [
  {
   "cell_type": "markdown",
   "id": "438c0b36",
   "metadata": {},
   "source": [
    "# NER DATA Fetch\n",
    "\n",
    "Recognize Named Entities using NER and fetch corresponding Wikipedia articles for them"
   ]
  },
  {
   "cell_type": "markdown",
   "id": "9b6b0b68",
   "metadata": {},
   "source": [
    "<h3>NER methods</h3>"
   ]
  },
  {
   "cell_type": "code",
   "execution_count": null,
   "id": "89cc78cb",
   "metadata": {},
   "outputs": [],
   "source": [
    "import nltk\n",
    "\n",
    "nltk.download('wordnet')\n",
    "from nltk.corpus import stopwords\n",
    "from nltk.tokenize import word_tokenize, sent_tokenize\n",
    "from pattern.text.en import singularize\n",
    "\n",
    "# stop_words = set(stopwords.words('english'))\n",
    "\n",
    "def get_pos(raw_text, pos_list):\n",
    "    tokenized = sent_tokenize(raw_text)\n",
    "    nouns = []\n",
    "\n",
    "    for sentence in tokenized:\n",
    "        tagged = tag_sentence(sentence)\n",
    "        for tag in tagged:\n",
    "            if tag[1] in pos_list:\n",
    "                nouns.append(tag[0])\n",
    "\n",
    "    return nouns"
   ]
  },
  {
   "cell_type": "code",
   "execution_count": 2,
   "id": "34f5a76e",
   "metadata": {},
   "outputs": [
    {
     "name": "stderr",
     "output_type": "stream",
     "text": [
      "2021-12-18 22:49:48.007331: W tensorflow/stream_executor/platform/default/dso_loader.cc:64] Could not load dynamic library 'libcudart.so.11.0'; dlerror: libcudart.so.11.0: cannot open shared object file: No such file or directory\n",
      "2021-12-18 22:49:48.007352: I tensorflow/stream_executor/cuda/cudart_stub.cc:29] Ignore above cudart dlerror if you do not have a GPU set up on your machine.\n",
      "/usr/lib/python3/dist-packages/requests/__init__.py:89: RequestsDependencyWarning: urllib3 (1.26.7) or chardet (3.0.4) doesn't match a supported version!\n",
      "  warnings.warn(\"urllib3 ({}) or chardet ({}) doesn't match a supported \"\n"
     ]
    }
   ],
   "source": [
    "import spacy\n",
    "from spacy import displacy\n",
    "from collections import Counter\n",
    "import en_core_web_sm\n",
    "import wikipedia\n",
    "from wikipedia import PageError\n",
    "\n",
    "wikipedia.API_URL = 'https://'\n",
    "\n",
    "nlp = en_core_web_sm.load()"
   ]
  },
  {
   "cell_type": "code",
   "execution_count": 13,
   "id": "ae525d82",
   "metadata": {},
   "outputs": [
    {
     "name": "stdout",
     "output_type": "stream",
     "text": [
      "[('Immunology', 'ORG'), '']\n"
     ]
    }
   ],
   "source": [
    "doc = nlp('I was studying for my Immunology exam today')\n",
    "ner_list = ['PERSON', 'NORP', 'FAC', 'ORG', 'GPE', 'LOC', 'PRODUCT', 'EVENT', 'WORK_OF_ART']\n",
    "print([(X.text, X.label_) if X.label_ in ner_list else \"\" for X in doc.ents])"
   ]
  },
  {
   "cell_type": "code",
   "execution_count": 16,
   "id": "7e9cd560",
   "metadata": {},
   "outputs": [
    {
     "name": "stdout",
     "output_type": "stream",
     "text": [
      "('Immunology', 'ORG')\n",
      "Immunology is a branch of biology and Medicine that covers the study of immune systems in all organisms. Immunology charts, measures, and contextualizes the physiological functioning of the immune system in states of both health and diseases; malfunctions of the immune system in immunological disorders (such as autoimmune diseases, hypersensitivities, immune deficiency, and transplant rejection); and the physical, chemical, and physiological characteristics of the components of the immune system in vitro, in situ, and in vivo. \n",
      "\n",
      "\n"
     ]
    }
   ],
   "source": [
    "for pos in doc.ents:\n",
    "    if pos.label_ in ner_list:\n",
    "        print((pos.text, pos.label_))\n",
    "        try:\n",
    "            retrieved_summary = wikipedia.summary(pos.text, sentences=20)\n",
    "        except PageError:\n",
    "            print(f\"[wiki_scraper]: Topic does not exist / is ambiguous\")\n",
    "\n",
    "        print(retrieved_summary, \"\\n\\n\")"
   ]
  },
  {
   "cell_type": "code",
   "execution_count": null,
   "id": "22a8c457",
   "metadata": {},
   "outputs": [],
   "source": []
  },
  {
   "cell_type": "code",
   "execution_count": null,
   "id": "0c43c973",
   "metadata": {},
   "outputs": [],
   "source": []
  }
 ],
 "metadata": {
  "kernelspec": {
   "display_name": "Python 3 (ipykernel)",
   "language": "python",
   "name": "python3"
  },
  "language_info": {
   "codemirror_mode": {
    "name": "ipython",
    "version": 3
   },
   "file_extension": ".py",
   "mimetype": "text/x-python",
   "name": "python",
   "nbconvert_exporter": "python",
   "pygments_lexer": "ipython3",
   "version": "3.8.10"
  }
 },
 "nbformat": 4,
 "nbformat_minor": 5
}
