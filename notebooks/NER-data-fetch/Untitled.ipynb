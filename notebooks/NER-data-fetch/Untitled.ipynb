{
 "cells": [
  {
   "cell_type": "markdown",
   "id": "470eae70",
   "metadata": {},
   "source": [
    "# NER DATA Fetch\n",
    "\n",
    "Recognize Named Entities using NER and fetch corresponding Wikipedia articles for them"
   ]
  },
  {
   "cell_type": "markdown",
   "id": "e39746e9",
   "metadata": {},
   "source": [
    "<h3>NER methods</h3>"
   ]
  },
  {
   "cell_type": "code",
   "execution_count": null,
   "id": "9839c819",
   "metadata": {},
   "outputs": [],
   "source": [
    "import nltk\n",
    "\n",
    "nltk.download('wordnet')\n",
    "from nltk.corpus import stopwords\n",
    "from nltk.tokenize import word_tokenize, sent_tokenize\n",
    "from pattern.text.en import singularize\n",
    "\n",
    "# stop_words = set(stopwords.words('english'))\n",
    "\n",
    "def get_pos(raw_text, pos_list):\n",
    "    tokenized = sent_tokenize(raw_text)\n",
    "    nouns = []\n",
    "\n",
    "    for sentence in tokenized:\n",
    "        tagged = tag_sentence(sentence)\n",
    "        for tag in tagged:\n",
    "            if tag[1] in pos_list:\n",
    "                nouns.append(tag[0])\n",
    "\n",
    "    return nouns"
   ]
  },
  {
   "cell_type": "code",
   "execution_count": 1,
   "id": "12392a82",
   "metadata": {},
   "outputs": [
    {
     "name": "stderr",
     "output_type": "stream",
     "text": [
      "2021-12-19 00:37:48.303368: W tensorflow/stream_executor/platform/default/dso_loader.cc:64] Could not load dynamic library 'libcudart.so.11.0'; dlerror: libcudart.so.11.0: cannot open shared object file: No such file or directory\n",
      "2021-12-19 00:37:48.303410: I tensorflow/stream_executor/cuda/cudart_stub.cc:29] Ignore above cudart dlerror if you do not have a GPU set up on your machine.\n",
      "/usr/lib/python3/dist-packages/requests/__init__.py:89: RequestsDependencyWarning: urllib3 (1.26.7) or chardet (3.0.4) doesn't match a supported version!\n",
      "  warnings.warn(\"urllib3 ({}) or chardet ({}) doesn't match a supported \"\n"
     ]
    }
   ],
   "source": [
    "import spacy\n",
    "from spacy import displacy\n",
    "from collections import Counter\n",
    "import en_core_web_sm\n",
    "import wikipedia\n",
    "from wikipedia import PageError\n",
    "\n",
    "wikipedia.API_URL = 'https://'\n",
    "\n",
    "nlp = en_core_web_sm.load()"
   ]
  },
  {
   "cell_type": "code",
   "execution_count": 12,
   "id": "5d74e6bf",
   "metadata": {},
   "outputs": [
    {
     "name": "stdout",
     "output_type": "stream",
     "text": [
      "[('Pakistan', 'GPE'), ('Sri Lanka', 'GPE')]\n"
     ]
    }
   ],
   "source": [
    "doc = nlp(\"Can you believe Pakistan beat Sri Lanka?\")\n",
    "ner_list = ['PERSON', 'NORP', 'FAC', 'ORG', 'GPE', 'LOC', 'PRODUCT', 'EVENT', 'WORK_OF_ART']\n",
    "print([(X.text, X.label_) if X.label_ in ner_list else \"\" for X in doc.ents])"
   ]
  },
  {
   "cell_type": "code",
   "execution_count": null,
   "id": "ea04a171",
   "metadata": {},
   "outputs": [],
   "source": [
    "for pos in doc.ents:\n",
    "    if pos.label_ in ner_list:\n",
    "        print((pos.text, pos.label_))\n",
    "        try:\n",
    "            retrieved_summary = wikipedia.summary(pos.text, sentences=20)\n",
    "        except PageError:\n",
    "            print(f\"[wiki_scraper]: Topic does not exist / is ambiguous\")\n",
    "\n",
    "        print(retrieved_summary, \"\\n\\n\")"
   ]
  },
  {
   "cell_type": "code",
   "execution_count": 2,
   "id": "b23c8c0b",
   "metadata": {},
   "outputs": [],
   "source": [
    "class KnowledgeSourceController:\n",
    "    def __init__(self):\n",
    "        self.knowledge_dictionary = {}\n",
    "    \n",
    "    def retrieve_knowledge(self, topic):\n",
    "        if topic in self.knowledge_dictionary:\n",
    "            return self.knowledge_dictionary[topic]\n",
    "        try:\n",
    "            print(f\"fetching data from wikipedia\")\n",
    "            retrieved_summary = wikipedia.summary(pos.text, sentences=20)\n",
    "            print(f\"data fetched successfully\")\n",
    "        except PageError:\n",
    "            print(f\"[wiki_scraper]: Topic does not exist / is ambiguous\")\n",
    "            return None\n",
    "        \n",
    "        self.knowledge_dictionary[topic] = retrieved_summary\n",
    "        print(f\"len: {len(self.knowledge_dictionary)}\")\n",
    "    \n",
    "    def pr(self):\n",
    "        print(self.knowledge_dictionary)\n",
    "    \n",
    "    def clear_knowledge(self):\n",
    "        self.knowledge_dictionary = []"
   ]
  },
  {
   "cell_type": "code",
   "execution_count": 3,
   "id": "62aef916",
   "metadata": {},
   "outputs": [],
   "source": [
    "ksc = KnowledgeSourceController()"
   ]
  },
  {
   "cell_type": "code",
   "execution_count": null,
   "id": "8c954e4b",
   "metadata": {},
   "outputs": [],
   "source": [
    "ksc.retrieve_knowledge(\"Formula One\")"
   ]
  },
  {
   "cell_type": "code",
   "execution_count": null,
   "id": "6f4fffdc",
   "metadata": {},
   "outputs": [],
   "source": [
    "ksc.retrieve_knowledge(\"The Football World Cup\")"
   ]
  },
  {
   "cell_type": "code",
   "execution_count": null,
   "id": "24733754",
   "metadata": {},
   "outputs": [],
   "source": [
    "ksc.pr()"
   ]
  },
  {
   "cell_type": "code",
   "execution_count": null,
   "id": "03c13188",
   "metadata": {},
   "outputs": [],
   "source": [
    "ksc.clear_knowledge()"
   ]
  },
  {
   "cell_type": "code",
   "execution_count": null,
   "id": "651b0a09",
   "metadata": {},
   "outputs": [],
   "source": [
    "ksc.pr()"
   ]
  },
  {
   "cell_type": "code",
   "execution_count": null,
   "id": "00f44afc",
   "metadata": {},
   "outputs": [],
   "source": []
  }
 ],
 "metadata": {
  "kernelspec": {
   "display_name": "Python 3 (ipykernel)",
   "language": "python",
   "name": "python3"
  },
  "language_info": {
   "codemirror_mode": {
    "name": "ipython",
    "version": 3
   },
   "file_extension": ".py",
   "mimetype": "text/x-python",
   "name": "python",
   "nbconvert_exporter": "python",
   "pygments_lexer": "ipython3",
   "version": "3.8.10"
  }
 },
 "nbformat": 4,
 "nbformat_minor": 5
}
