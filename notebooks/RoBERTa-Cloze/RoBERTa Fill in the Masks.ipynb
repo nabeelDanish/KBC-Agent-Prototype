{
 "cells": [
  {
   "cell_type": "markdown",
   "id": "28c5e4f8",
   "metadata": {},
   "source": [
    "<h1>RoBERTa Fill in the Masks</h1>"
   ]
  },
  {
   "cell_type": "code",
   "execution_count": 2,
   "id": "7aecfe3d",
   "metadata": {},
   "outputs": [
    {
     "name": "stderr",
     "output_type": "stream",
     "text": [
      "/usr/lib/python3/dist-packages/requests/__init__.py:89: RequestsDependencyWarning: urllib3 (1.26.7) or chardet (3.0.4) doesn't match a supported version!\n",
      "  warnings.warn(\"urllib3 ({}) or chardet ({}) doesn't match a supported \"\n",
      "2021-12-05 17:21:08.535537: W tensorflow/stream_executor/platform/default/dso_loader.cc:64] Could not load dynamic library 'libcudart.so.11.0'; dlerror: libcudart.so.11.0: cannot open shared object file: No such file or directory\n",
      "2021-12-05 17:21:08.535565: I tensorflow/stream_executor/cuda/cudart_stub.cc:29] Ignore above cudart dlerror if you do not have a GPU set up on your machine.\n"
     ]
    }
   ],
   "source": [
    "from transformers import pipeline"
   ]
  },
  {
   "cell_type": "code",
   "execution_count": 4,
   "id": "79e31f4b",
   "metadata": {},
   "outputs": [
    {
     "data": {
      "text/plain": [
       "[{'sequence': 'Why is Multan important? As the cultural and economic center of Southern Punjab',\n",
       "  'score': 0.6684311628341675,\n",
       "  'token': 287,\n",
       "  'token_str': ' As'},\n",
       " {'sequence': 'Why is Multan important? Being the cultural and economic center of Southern Punjab',\n",
       "  'score': 0.07993815839290619,\n",
       "  'token': 8374,\n",
       "  'token_str': ' Being'},\n",
       " {'sequence': 'Why is Multan important? as the cultural and economic center of Southern Punjab',\n",
       "  'score': 0.060367655009031296,\n",
       "  'token': 25,\n",
       "  'token_str': ' as'},\n",
       " {'sequence': 'Why is Multan important? - the cultural and economic center of Southern Punjab',\n",
       "  'score': 0.03435134515166283,\n",
       "  'token': 111,\n",
       "  'token_str': ' -'},\n",
       " {'sequence': 'Why is Multan important? – the cultural and economic center of Southern Punjab',\n",
       "  'score': 0.023692946881055832,\n",
       "  'token': 126,\n",
       "  'token_str': ' –'}]"
      ]
     },
     "execution_count": 4,
     "metadata": {},
     "output_type": "execute_result"
    }
   ],
   "source": [
    "unmasker = pipeline('fill-mask', model='../../models/roberta-large')\n",
    "unmasker(\"Why is Multan important? <mask> the cultural and economic center of Southern Punjab\")"
   ]
  },
  {
   "cell_type": "code",
   "execution_count": null,
   "id": "c06ae331",
   "metadata": {},
   "outputs": [],
   "source": [
    "print(type(unmasker))"
   ]
  },
  {
   "cell_type": "code",
   "execution_count": null,
   "id": "02efd9f7",
   "metadata": {},
   "outputs": [],
   "source": []
  }
 ],
 "metadata": {
  "kernelspec": {
   "display_name": "Python 3 (ipykernel)",
   "language": "python",
   "name": "python3"
  },
  "language_info": {
   "codemirror_mode": {
    "name": "ipython",
    "version": 3
   },
   "file_extension": ".py",
   "mimetype": "text/x-python",
   "name": "python",
   "nbconvert_exporter": "python",
   "pygments_lexer": "ipython3",
   "version": "3.8.10"
  }
 },
 "nbformat": 4,
 "nbformat_minor": 5
}
