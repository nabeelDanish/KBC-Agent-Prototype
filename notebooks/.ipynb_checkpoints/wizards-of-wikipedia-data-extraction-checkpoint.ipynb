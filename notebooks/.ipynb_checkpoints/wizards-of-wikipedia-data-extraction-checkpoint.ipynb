{
 "cells": [
  {
   "cell_type": "markdown",
   "id": "93fd018f",
   "metadata": {},
   "source": [
    "<h1>Wizards of Wikipedia Data Extraction</h1>"
   ]
  },
  {
   "cell_type": "code",
   "execution_count": 11,
   "id": "032f4a3a",
   "metadata": {},
   "outputs": [],
   "source": [
    "import json"
   ]
  },
  {
   "cell_type": "markdown",
   "id": "a7d4de2b",
   "metadata": {},
   "source": [
    "<h3>Load Wizards of Wikipedia Train json file</h3>"
   ]
  },
  {
   "cell_type": "code",
   "execution_count": 12,
   "id": "34a10206",
   "metadata": {},
   "outputs": [],
   "source": [
    "with open('../../../DATA/wizard_of_wikipedia/train.json', 'r') as json_file:\n",
    "    dataset = json.load(json_file)"
   ]
  },
  {
   "cell_type": "code",
   "execution_count": 27,
   "id": "beecec0f",
   "metadata": {},
   "outputs": [
    {
     "name": "stdout",
     "output_type": "stream",
     "text": [
      "HUMAN GEN: I think science fiction is an amazing genre for anything. Future science, technology, time travel, FTL travel, they're all such interesting concepts.\n",
      "SOURCE SENT: Science fiction (often shortened to SF or sci-fi) is a genre of speculative fiction, typically dealing with imaginative concepts such as futuristic science and technology, space travel, time travel, faster than light travel, parallel universes, and extraterrestrial life.\n",
      "\n",
      "\n",
      "PREV TURN: I'm a huge fan of science fiction myself! \n",
      "HUMAN GEN: Awesome! I really love how sci-fi storytellers focus on political/social/philosophical issues that would still be around even in the future. Makes them relatable.\n",
      "SOURCE SENT: Science fiction films have often been used to focus on political or social issues, and to explore philosophical issues like the human condition.\n",
      "\n",
      "\n",
      "PREV TURN: I agree. One of my favorite forms of science fiction is anything related to time travel! I find it fascinating.\n",
      "HUMAN GEN: It's not quite sci-fi, but my favorite version of time travel is in Harry Potter and the Prisoner of Azkaban. Breaks zero logical rules.\n",
      "SOURCE SENT: The central premise for these stories oftentimes involves changing history, either intentionally or by accident, and the ways by which altering the past changes the future and creates an altered present or future for the time traveler when they return home.\n",
      "\n",
      "\n",
      "PREV TURN: And that's difficult to do when dealing with time travel. I actually haven't seen the latest Harry Potter movies. Guess it's time to check them out!\n",
      "HUMAN GEN: If you really want a look at the potential negative consequences of scientific innovation, what you should check out is the TV show Fringe. Incredibly well written.\n",
      "SOURCE SENT: Science fiction often explores the potential consequences of scientific and other innovations, and has been called a \"literature of ideas\".\n",
      "\n",
      "\n",
      "PREV TURN: Thank you for the suggestion, I will definitely check it out!\n",
      "HUMAN GEN: It blends science fiction and paranormal/psychological/MK Ultra type stuff together, but it's science fiction at its core.\n",
      "SOURCE SENT: no_passages_used\n",
      "\n",
      "\n",
      "PREV TURN: Can you imagine the world without internet access? \n",
      "HUMAN GEN: No I could not! I couldn't imagine living when internet access was rare and very few people had it!\n",
      "SOURCE SENT: Internet access was once rare, but has grown rapidly.\n",
      "\n",
      "\n",
      "PREV TURN: Oh me either! It seems like such a long time ago. I wonder when Internet was first created?\n",
      "HUMAN GEN: It used to be restricted, but around 1995, the restricted were lifted and commercial use of it began\n",
      "SOURCE SENT: Use by a wider audience only came in 1995 when restrictions on the use of the Internet to carry commercial traffic were lifted.\n",
      "\n",
      "\n",
      "PREV TURN: That is awesome. I wonder why it was restricted? Probably because they only wanted government and big companies to use it at first.\n",
      "HUMAN GEN: Yes, it was developed from a government funded projects to help with universities research and laboratories in the United States...I am so glad they expanded it! \n",
      "SOURCE SENT: The Internet developed from the ARPANET, which was funded by the US government to support projects within the government and at universities and research laboratories in the US – but grew over time to include most of the world's large universities and the research arms of many technology companies.\n",
      "\n",
      "\n",
      "PREV TURN: I am too, it makes life so much easier!\n",
      "HUMAN GEN: What is your favorite thing to do with internet access? I like being able to use my computer and smartphone to use my email and browse the world wide web\n",
      "SOURCE SENT: Internet access is the ability of individuals and organizations to connect to the Internet using computer terminals, computers, and other devices; and to access services such as email and the World Wide Web.\n",
      "\n",
      "\n"
     ]
    }
   ],
   "source": [
    "#print(json_load['train'][0])\n",
    "\n",
    "prev_turn = ''\n",
    "for train_example_id in range(0 ,2):\n",
    "    dialog_list = dataset[train_example_id]['dialog']\n",
    "    for dialog_turn in dialog_list:\n",
    "        if 'Wizard' in dialog_turn['speaker'] and 'checked_sentence' in dialog_turn:\n",
    "            if prev_turn != '':\n",
    "                print(f\"PREV TURN: {prev_turn}\")\n",
    "            print(f\"HUMAN GEN: {dialog_turn['text']}\")\n",
    "            print(f\"SOURCE SENT: {list(dialog_turn['checked_sentence'].values())[0]}\\n\\n\")\n",
    "        else:\n",
    "            prev_turn = dialog_turn['text']\n",
    "    prev_turn = ''"
   ]
  },
  {
   "cell_type": "code",
   "execution_count": null,
   "id": "952831b2",
   "metadata": {},
   "outputs": [],
   "source": []
  }
 ],
 "metadata": {
  "kernelspec": {
   "display_name": "Python 3 (ipykernel)",
   "language": "python",
   "name": "python3"
  },
  "language_info": {
   "codemirror_mode": {
    "name": "ipython",
    "version": 3
   },
   "file_extension": ".py",
   "mimetype": "text/x-python",
   "name": "python",
   "nbconvert_exporter": "python",
   "pygments_lexer": "ipython3",
   "version": "3.8.10"
  }
 },
 "nbformat": 4,
 "nbformat_minor": 5
}
