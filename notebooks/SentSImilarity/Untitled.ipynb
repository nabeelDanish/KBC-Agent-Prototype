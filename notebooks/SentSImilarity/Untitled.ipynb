{
 "cells": [
  {
   "cell_type": "markdown",
   "id": "159a9c0b",
   "metadata": {},
   "source": [
    "<h1>Keyphrase Extraction Methods</h1>"
   ]
  },
  {
   "cell_type": "markdown",
   "id": "f0c65d88",
   "metadata": {},
   "source": [
    "<h2>Span-finding approaches</h2>"
   ]
  },
  {
   "cell_type": "markdown",
   "id": "9ffdc3f5",
   "metadata": {},
   "source": [
    "<h3>Using MpNet for sent similarity</h3>"
   ]
  },
  {
   "cell_type": "code",
   "execution_count": 1,
   "id": "1c3556a0",
   "metadata": {},
   "outputs": [],
   "source": [
    "doc = \"\"\"\n",
    "         Supervised learning is the machine learning task of \n",
    "         learning a function that maps an input to an output based \n",
    "         on example input-output pairs.[1] It infers a function \n",
    "         from labeled training data consisting of a set of \n",
    "         training examples.[2] In supervised learning, each \n",
    "         example is a pair consisting of an input object \n",
    "         (typically a vector) and a desired output value (also \n",
    "         called the supervisory signal). A supervised learning \n",
    "         algorithm analyzes the training data and produces an \n",
    "         inferred function, which can be used for mapping new \n",
    "         examples. An optimal scenario will allow for the algorithm \n",
    "         to correctly determine the class labels for unseen \n",
    "         instances. This requires the learning algorithm to  \n",
    "         generalize from the training data to unseen situations \n",
    "         in a 'reasonable' way (see inductive bias).\n",
    "      \"\"\"\n",
    "\n",
    "doc = \"\"\"Multan is a city and capital of Multan Division located in Punjab, Pakistan. Situated on the bank of the Chenab River, Multan is Pakistan's 7th largest city and is the major cultural and economic centre of Southern Punjab. Multan's history stretches deep into antiquity. The ancient city was site of the renowned Hindu Multan Sun Temple, and was besieged by Alexander the Great during the Mallian Campaign. Multan was one of the most important trading centres of medieval Islamic India, and attracted a multitude of Sufi mystics in the 11th and 12th centuries, earning the city the sobriquet \"City of Saints\". The city, along with the nearby city of Uch, is renowned for its large number of Sufi shrines dating from that era.\"\"\""
   ]
  },
  {
   "cell_type": "code",
   "execution_count": null,
   "id": "1dd500cd",
   "metadata": {},
   "outputs": [],
   "source": [
    "\n",
    "from sklearn.feature_extraction.text import CountVectorizer\n",
    "\n",
    "n_gram_range = (5, 5)\n",
    "stop_words = \"english\"\n",
    "\n",
    "# Extract candidate words/phrases\n",
    "count = CountVectorizer(ngram_range=n_gram_range, stop_words=stop_words).fit([doc])\n",
    "candidates = count.get_feature_names()"
   ]
  },
  {
   "cell_type": "code",
   "execution_count": 13,
   "id": "27bac8bd",
   "metadata": {},
   "outputs": [],
   "source": [
    "from sentence_transformers import SentenceTransformer\n",
    "\n",
    "message = \"oh yes they have a lot of cows and push out a lot of dairy every hour\"\n",
    "questions = [\"Where do dairy farms typically consist of high producing dairy cows?\",\n",
    "            \"What do a lot of cows push a lot of?\"]\n",
    "model = SentenceTransformer('../../../../models/all-mpnet-base-v2', device='cpu')\n",
    "doc_embedding = model.encode([message])\n",
    "candidate_embeddings = model.encode(questions)"
   ]
  },
  {
   "cell_type": "code",
   "execution_count": 14,
   "id": "7d514542",
   "metadata": {},
   "outputs": [],
   "source": [
    "\n",
    "from sklearn.metrics.pairwise import cosine_similarity\n",
    "\n",
    "top_n = 5\n",
    "distances = cosine_similarity(doc_embedding, candidate_embeddings)\n",
    "keywords = [questions[index] for index in distances.argsort()[0][-top_n:]]"
   ]
  },
  {
   "cell_type": "code",
   "execution_count": 15,
   "id": "f89eeeb5",
   "metadata": {},
   "outputs": [
    {
     "name": "stdout",
     "output_type": "stream",
     "text": [
      "['What do a lot of cows push a lot of?', 'Where do dairy farms typically consist of high producing dairy cows?']\n"
     ]
    }
   ],
   "source": [
    "print(keywords)"
   ]
  },
  {
   "cell_type": "code",
   "execution_count": 16,
   "id": "95879f79",
   "metadata": {},
   "outputs": [
    {
     "name": "stdout",
     "output_type": "stream",
     "text": [
      "[[0.6593828 0.5885073]]\n"
     ]
    }
   ],
   "source": [
    "print(distances)"
   ]
  },
  {
   "cell_type": "code",
   "execution_count": null,
   "id": "41e47652",
   "metadata": {},
   "outputs": [],
   "source": [
    "from .keyphrase_extraction.pipelines import pipeline"
   ]
  },
  {
   "cell_type": "code",
   "execution_count": null,
   "id": "3ed22c4f",
   "metadata": {},
   "outputs": [],
   "source": [
    "from transformers import T5Tokenizer, T5ForConditionalGeneration\n",
    "\n",
    "model_path = \"../../../../models/t5-base\"\n",
    "tokenizer = T5Tokenizer.from_pretrained(model_path)\n",
    "model = T5ForConditionalGeneration.from_pretrained(model_path)"
   ]
  },
  {
   "cell_type": "code",
   "execution_count": null,
   "id": "a11fa1e8",
   "metadata": {},
   "outputs": [],
   "source": [
    "q0 = \"question: How many tournaments have been held so far? context: Six tournaments have so far been played, and only the West Indies, who currently hold the title, has won the tournament on multiple occasions. The inaugural 2007 World Twenty20, was staged in South Africa, and won by India, who defeated Pakistan in the final at the Wanderers Stadium in Johannesburg. The 2009 tournament took place in England, and was won by the previous runner-up, Pakistan, who defeated Sri Lanka in the final at Lord's. The third tournament was held in 2010, hosted by the countries making up the West Indies cricket team.\"\n",
    "q1 = \"ask_question: Six tournaments have so far been played, and only the West Indies, who currently hold the title, has won the tournament on multiple occasions. The inaugural 2007 World Twenty20, was staged in South Africa, and won by India, who defeated Pakistan in the final at the Wanderers Stadium in Johannesburg. The 2009 tournament took place in England, and was won by the previous runner-up, Pakistan, who defeated Sri Lanka in the final at Lord's. The third tournament was held in 2010, hosted by the countries making up the West Indies cricket team.\"\n",
    "q2 = \"ask_question: Organised by cricket's governing body, the International Cricket Council (ICC), the tournament currently consists of 16 teams, comprising the top ten teams from the rankings at the given deadline and six other teams chosen through the T20 World Cup Qualifier.\"\n",
    "input_ids = tokenizer(q0, return_tensors='pt', add_special_tokens=True).input_ids\n",
    "outputs = model.generate(input_ids)\n",
    "for output in outputs:\n",
    "    print(tokenizer.decode(output, skip_special_tokens=True))"
   ]
  },
  {
   "cell_type": "markdown",
   "id": "c4661b20",
   "metadata": {},
   "source": [
    "<h3>End-to-End question generation</h3>"
   ]
  },
  {
   "cell_type": "code",
   "execution_count": 17,
   "id": "488085bb",
   "metadata": {},
   "outputs": [
    {
     "name": "stdout",
     "output_type": "stream",
     "text": [
      "/home/farjad/Documents/1. UNIVERSITY FOLDER/7th sem/FYP/PRACTICAL/CODE/KBC-Agent-Prototype/notebooks/SentSImilarity/keyphrase_extraction/bekaar/question_generation\n"
     ]
    }
   ],
   "source": [
    "# !git clone https://github.com/patil-suraj/question_generation.git\n",
    "%cd question_generation\n",
    "\n",
    "from pipelines import pipeline\n",
    "nlp = pipeline(\"e2e-qg\", model=\"../../../../../models/t5-base-e2e-qg\", use_cuda=False)"
   ]
  },
  {
   "cell_type": "code",
   "execution_count": 21,
   "id": "e04bcf44",
   "metadata": {},
   "outputs": [
    {
     "data": {
      "text/plain": [
       "['What river did I go to near Multan?']"
      ]
     },
     "execution_count": 21,
     "metadata": {},
     "output_type": "execute_result"
    }
   ],
   "source": [
    "q0 = \"Organised by cricket's governing body, the International Cricket Council (ICC), the tournament currently consists of 16 teams, comprising the top ten teams from the rankings at the given deadline and six other teams chosen through the T20 World Cup Qualifier.\"\n",
    "# q0 = \"comprising the top ten teams from the rankings at the given deadline and six other teams chosen through the T20 World Cup Qualifier.\"\n",
    "q1 = \"team.\"\n",
    "\n",
    "q2 = \"Situated on the bank of the Chenab River, Multan is Pakistan's 7th largest city and is the major cultural and economic centre of Southern Punjab.\"\n",
    "q3 = \"economic\"\n",
    "nlp(f\"I went to the river near Multan\")"
   ]
  },
  {
   "cell_type": "code",
   "execution_count": null,
   "id": "21e843ba",
   "metadata": {},
   "outputs": [],
   "source": []
  },
  {
   "cell_type": "markdown",
   "id": "6d3cf338",
   "metadata": {},
   "source": [
    "<h3>Question Answeing pipeline</h3>"
   ]
  },
  {
   "cell_type": "code",
   "execution_count": null,
   "id": "53cd17a0",
   "metadata": {},
   "outputs": [],
   "source": [
    "# !git clone https://github.com/patil-suraj/question_generation.git\n",
    "%cd question_generation\n",
    "\n",
    "from pipelines import pipeline\n",
    "nlp = pipeline(\"multitask-qa-qg\", model=\"../../../../../models/t5-small-qa-qg-hl\")"
   ]
  },
  {
   "cell_type": "code",
   "execution_count": null,
   "id": "4243479c",
   "metadata": {},
   "outputs": [],
   "source": [
    "doc = \"\"\"Multan is a city and capital of Multan Division located in Punjab, Pakistan. Situated on the bank of the Chenab River, Multan is Pakistan's 7th largest city and is the major cultural and economic centre of Southern Punjab. Multan's history stretches deep into antiquity. The ancient city was site of the renowned Hindu Multan Sun Temple, and was besieged by Alexander the Great during the Mallian Campaign. Multan was one of the most important trading centres of medieval Islamic India, and attracted a multitude of Sufi mystics in the 11th and 12th centuries, earning the city the sobriquet \"City of Saints\". The city, along with the nearby city of Uch, is renowned for its large number of Sufi shrines dating from that era.\"\"\"\n",
    "\n",
    "nlp({\n",
    "    \"question\": \"I like Multan\",\n",
    "    \"context\": doc\n",
    "})"
   ]
  },
  {
   "cell_type": "code",
   "execution_count": null,
   "id": "e5e329ac",
   "metadata": {},
   "outputs": [],
   "source": [
    "nlp = pipeline(\"e2e-qg\", model=\"../../../../../models/t5-small-qa-qg-hl\")\n",
    "nlp(\"Organised by cricket's governing body, the International Cricket Council (ICC), the tournament currently consists of 16 teams, comprising the top ten teams from the rankings at the given deadline and six other teams chosen through the T20 World Cup Qualifier.\")"
   ]
  },
  {
   "cell_type": "code",
   "execution_count": null,
   "id": "93f4ae74",
   "metadata": {},
   "outputs": [],
   "source": []
  }
 ],
 "metadata": {
  "kernelspec": {
   "display_name": "Python 3 (ipykernel)",
   "language": "python",
   "name": "python3"
  },
  "language_info": {
   "codemirror_mode": {
    "name": "ipython",
    "version": 3
   },
   "file_extension": ".py",
   "mimetype": "text/x-python",
   "name": "python",
   "nbconvert_exporter": "python",
   "pygments_lexer": "ipython3",
   "version": "3.8.10"
  }
 },
 "nbformat": 4,
 "nbformat_minor": 5
}
